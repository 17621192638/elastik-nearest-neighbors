{
 "cells": [
  {
   "cell_type": "code",
   "execution_count": 2,
   "metadata": {},
   "outputs": [
    {
     "name": "stdout",
     "output_type": "stream",
     "text": [
      "Done\n"
     ]
    }
   ],
   "source": [
    "%load_ext autoreload\n",
    "%autoreload 2\n",
    "%matplotlib inline\n",
    "\n",
    "from sklearn.neighbors import NearestNeighbors\n",
    "import matplotlib.pyplot as plt\n",
    "from collections import defaultdict, Counter\n",
    "from time import time\n",
    "import numpy as np\n",
    "\n",
    "print('Done')"
   ]
  },
  {
   "cell_type": "code",
   "execution_count": 48,
   "metadata": {},
   "outputs": [
    {
     "name": "stdout",
     "output_type": "stream",
     "text": [
      "[[0 1 0 0 0]\n",
      " [0 0 0 0 1]]\n",
      "Mean values in each bucket = 10\n",
      "Pass\n",
      "Pass\n",
      "Pass\n",
      "Pass\n",
      "Pass\n",
      "Pass\n",
      "Pass\n",
      "Pass\n",
      "Pass\n",
      "Pass\n",
      "Pass\n",
      "Pass\n",
      "Pass\n",
      "Pass\n",
      "Pass\n",
      "Pass\n",
      "Pass\n",
      "Pass\n",
      "Pass\n",
      "Pass\n"
     ]
    }
   ],
   "source": [
    "\n",
    "class ExhaustiveKNN(object):\n",
    "    \n",
    "    def __init__(self):\n",
    "        return\n",
    "    \n",
    "    def fit(self, vecs):\n",
    "        self.vecs = vecs\n",
    "        \n",
    "    def kneighbors_single(self, vec):\n",
    "        nbrs = Counter()\n",
    "        nb_ops = 0\n",
    "        for i, vec_ in enumerate(self.vecs):\n",
    "            for col, val in enumerate(vec):\n",
    "                nbrs[i] += int(vec_[col] == vec[col])\n",
    "                nb_ops += 1\n",
    "        return nbrs, nb_ops\n",
    "\n",
    "    def kneighbors(self, vecs):\n",
    "        nb_ops = 0\n",
    "        nbrs = []\n",
    "        for vec in vecs:\n",
    "            x = self.kneighbors_single(vec)\n",
    "            nbrs.append(x[0])\n",
    "            nb_ops += x[1]\n",
    "        return nbrs, nb_ops\n",
    "                \n",
    "\n",
    "class IndexedKNN(object):\n",
    "    \n",
    "    def __init__(self):\n",
    "        self.inv = defaultdict(list)\n",
    "        self.nb_vecs = 0\n",
    "    \n",
    "    def fit(self, vecs):\n",
    "        self.nb_vecs += len(vecs)\n",
    "        for id_, vec in enumerate(vecs):\n",
    "            for col, val in enumerate(vec):\n",
    "                self.inv[(col, val)].append(id_)\n",
    "                \n",
    "    def kneighbors_single(self, vec):\n",
    "        nbrs = Counter()\n",
    "        nb_ops = 0\n",
    "        for col, val in enumerate(vec):\n",
    "            for id_ in self.inv[(col, val)]:\n",
    "                nbrs[id_] += 1\n",
    "                nb_ops += 1\n",
    "        return nbrs, nb_ops\n",
    "    \n",
    "    def kneighbors(self, vecs):\n",
    "        nb_ops = 0\n",
    "        nbrs = []\n",
    "        for vec in vecs:\n",
    "            x = self.kneighbors_single(vec)\n",
    "            nbrs.append(x[0])\n",
    "            nb_ops += x[1]\n",
    "        return nbrs, nb_ops\n",
    "\n",
    "\n",
    "np.random.seed(1)\n",
    "vecs = np.random.binomial(1, 0.5, (20, 5)).astype(np.uint8)\n",
    "print(vecs[:2])\n",
    "\n",
    "iknn = IndexedKNN()\n",
    "iknn.fit(vecs)\n",
    "inbrs, iops = iknn.kneighbors(vecs)\n",
    "\n",
    "print('Mean values in each bucket = %d' % np.mean(list(map(len, iknn.inv.values()))))\n",
    "\n",
    "\n",
    "eknn = ExhaustiveKNN()\n",
    "eknn.fit(vecs)\n",
    "enbrs, eops = eknn.kneighbors(vecs)\n",
    "\n",
    "for i in range(len(vecs)):\n",
    "    print('Pass' if inbrs[i].most_common() == enbrs[i].most_common()[:len(inbrs[i])] else 'Fail')"
   ]
  },
  {
   "cell_type": "code",
   "execution_count": 32,
   "metadata": {},
   "outputs": [
    {
     "name": "stdout",
     "output_type": "stream",
     "text": [
      "1 (1310, 0.0024) (2560, 0.0056)\n",
      "2 (2580, 0.0033) (5120, 0.0102)\n",
      "3 (5208, 0.0050) (10240, 0.0194)\n",
      "4 (10426, 0.0085) (20480, 0.0389)\n",
      "5 (20808, 0.0157) (40960, 0.0765)\n",
      "6 (41580, 0.0302) (81920, 0.1466)\n"
     ]
    },
    {
     "data": {
      "image/png": "[encoded data removed]",
      "text/plain": [
       "<Figure size 432x288 with 1 Axes>"
      ]
     },
     "metadata": {},
     "output_type": "display_data"
    }
   ],
   "source": [
    "xvals, times_indexed, times_exhaustive, ops_indexed, ops_exhaustive = [], [], [], [], []\n",
    "base = 2\n",
    "max_exp = 7\n",
    "np.random.seed(1)\n",
    "vecs = np.random.binomial(1, 0.5, (base ** max_exp, 10)).astype(np.uint8)\n",
    "\n",
    "for exp in range(1, max_exp):  \n",
    "    xvals.append(base ** exp)\n",
    "    \n",
    "    iknn = IndexedKNN()\n",
    "    iknn.fit(vecs[: base**exp])\n",
    "    t0 = time()\n",
    "    ops_indexed.append(iknn.kneighbors(vecs)[1])\n",
    "    times_indexed.append(time() - t0)\n",
    "    \n",
    "    eknn = ExhaustiveKNN()\n",
    "    eknn.fit(vecs[: base**exp])\n",
    "    t0 = time()\n",
    "    ops_exhaustive.append(eknn.kneighbors(vecs)[1])\n",
    "    times_exhaustive.append(time() - t0)\n",
    "\n",
    "    print('%d (%d, %.4lf) (%d, %.4lf)' % (\n",
    "        exp, ops_indexed[-1], times_indexed[-1], ops_exhaustive[-1], times_exhaustive[-1]))\n",
    "    \n",
    "plt.plot(xvals, ops_indexed, label='Indexed', color='blue', linestyle='--')\n",
    "plt.plot(xvals, ops_exhaustive, label='Exhaustive', color='orange', linestyle='--')\n",
    "plt.xticks(xvals)\n",
    "plt.xlabel('Corpus size')\n",
    "plt.ylabel('Operations')\n",
    "plt.legend()\n",
    "plt.show()"
   ]
  },
  {
   "cell_type": "markdown",
   "metadata": {},
   "source": [
    "Runtime complexity for KNN with $n$ corpus vectors and $n$ query vectors with dimension $d$.\n",
    "\n",
    "For exhaustive implementation: $O(n^2 \\times d)$\n",
    "\n",
    "For inverted-index implementation: $O(n^2 \\times d \\diagup 2)$, assuming $P(\\text{hash} = 1) = 0.5$. This becomes intuitive when you consider that at each index in the vector, you have to iterate over half of the corpus to increment their counts."
   ]
  },
  {
   "cell_type": "code",
   "execution_count": 6,
   "metadata": {},
   "outputs": [
    {
     "name": "stdout",
     "output_type": "stream",
     "text": [
      "Brute force full KNN = 2048000000000000 operations\n",
      "Approximate full KNN = 48316680 operations\n",
      "Gains = 42387018x\n"
     ]
    }
   ],
   "source": [
    "# Complexity for implementation with L different random initializations, each based on K hyperplanes..\n",
    "from math import log\n",
    "\n",
    "def O_partial_sort(K, N):\n",
    "    return N * log(N) # TODO... what is the actual *partial* complexity?\n",
    "\n",
    "def O_query(N, D, L, H, K):\n",
    "    O = 1\n",
    "    O *= L           # Once for each LSH configuration.\n",
    "    O *= N           # Once for each of the N vectors.\n",
    "    O *= D           # Once for each dimension.\n",
    "    O *= (N / 2**H)  # Once for each vector in this hash bucket; there are 2**K buckets.\n",
    "    O += O_partial_sort(K, L * N / 2**K)\n",
    "    return O\n",
    "    \n",
    "    \n",
    "# O_query = lambda N, D, L, H, K: (L * N * D * (N / 2**H)) # + O_sort(L * N / 2**H)\n",
    "\n",
    "N = 1000000      # No. items in corpus.\n",
    "D = 2048         # Original dimensionality of item vectors.\n",
    "L = 99            # No. randomly-initialized LSH configurations.\n",
    "H = 32           # No. binary bits for each LSH configuration, also no. hyperplanes.\n",
    "K = 10           # Get the top K.\n",
    "\n",
    "print(\"Brute force full KNN = %d operations\" % (N * N * D))\n",
    "print(\"Approximate full KNN = %d operations\" % O_query(N, D, L, H, K))\n",
    "print(\"Gains = %dx\" % (N * N * D / O_query(N, D, L, H, K)))"
   ]
  }
 ],
 "metadata": {
  "kernelspec": {
   "display_name": "Python 3",
   "language": "python",
   "name": "python3"
  },
  "language_info": {
   "codemirror_mode": {
    "name": "ipython",
    "version": 3
   },
   "file_extension": ".py",
   "mimetype": "text/x-python",
   "name": "python",
   "nbconvert_exporter": "python",
   "pygments_lexer": "ipython3",
   "version": "3.5.2"
  }
 },
 "nbformat": 4,
 "nbformat_minor": 2
}
